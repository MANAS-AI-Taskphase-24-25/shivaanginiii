{
  "nbformat": 4,
  "nbformat_minor": 0,
  "metadata": {
    "colab": {
      "provenance": [],
      "authorship_tag": "ABX9TyNstWRligt3A29d/9ZbGuOm",
      "include_colab_link": true
    },
    "kernelspec": {
      "name": "python3",
      "display_name": "Python 3"
    },
    "language_info": {
      "name": "python"
    }
  },
  "cells": [
    {
      "cell_type": "markdown",
      "metadata": {
        "id": "view-in-github",
        "colab_type": "text"
      },
      "source": [
        "<a href=\"https://colab.research.google.com/github/shivaanginidoctor/shivaangini-/blob/main/linearreg.ipynb\" target=\"_parent\"><img src=\"https://colab.research.google.com/assets/colab-badge.svg\" alt=\"Open In Colab\"/></a>"
      ]
    },
    {
      "cell_type": "code",
      "source": [
        "import pandas as pd\n",
        "import numpy as np\n",
        "import matplotlib.pyplot as plt\n",
        "import seaborn as sns"
      ],
      "metadata": {
        "id": "L63-KuIhvItg"
      },
      "execution_count": null,
      "outputs": []
    },
    {
      "cell_type": "code",
      "source": [
        "import gdown\n",
        "import pandas as pd\n",
        "\n",
        "file_id = '1DdyFZ9fizNFyinCvnW3npY7S43bkzD63'\n",
        "output_file = 'Train.csv'  # Name for the downloaded file\n",
        "\n",
        "# URL for the file\n",
        "download_url = f'https://drive.google.com/uc?id={file_id}'\n",
        "\n",
        "gdown.download(download_url, output_file, quiet=False)\n",
        "train = pd.read_csv(output_file, sep=',')  # Or sep=';' if semicolon separated\n",
        "train = pd.read_csv(output_file, sep=',')  # Or sep=';' if semicolon separated"
      ],
      "metadata": {
        "colab": {
          "base_uri": "https://localhost:8080/"
        },
        "id": "IeJdIM6ty6Pm",
        "outputId": "f09b6559-7542-4f45-c3bc-850b1dccf545"
      },
      "execution_count": null,
      "outputs": [
        {
          "output_type": "stream",
          "name": "stderr",
          "text": [
            "Downloading...\n",
            "From: https://drive.google.com/uc?id=1DdyFZ9fizNFyinCvnW3npY7S43bkzD63\n",
            "To: /content/Train.csv\n",
            "100%|██████████| 404k/404k [00:00<00:00, 71.0MB/s]\n"
          ]
        }
      ]
    },
    {
      "cell_type": "code",
      "source": [
        "file_id = '1vii5mpTPPrSExmg5S0eVcL4cmdLi-F9L'\n",
        "output_file = 'Test.csv'  # Name for the downloaded file\n",
        "\n",
        "# URL for the file\n",
        "download_url = f'https://drive.google.com/uc?id={file_id}'\n",
        "\n",
        "gdown.download(download_url, output_file, quiet=False)\n",
        "test = pd.read_csv(output_file, sep=',')  # Or sep=';' if semicolon separated\n",
        "test = pd.read_csv(output_file, sep=',')  # Or sep=';' if semicolon separated"
      ],
      "metadata": {
        "colab": {
          "base_uri": "https://localhost:8080/"
        },
        "id": "m6jD6pytz2vU",
        "outputId": "1090d651-6ab3-433d-9f63-9e97bcac75f0"
      },
      "execution_count": null,
      "outputs": [
        {
          "output_type": "stream",
          "name": "stderr",
          "text": [
            "Downloading...\n",
            "From: https://drive.google.com/uc?id=1vii5mpTPPrSExmg5S0eVcL4cmdLi-F9L\n",
            "To: /content/Test.csv\n",
            "100%|██████████| 134k/134k [00:00<00:00, 76.3MB/s]\n"
          ]
        }
      ]
    },
    {
      "cell_type": "code",
      "source": [
        "def extract(value):\n",
        "    try:\n",
        "        return float(value.split()[0]) #use float and not int, int shows error, expects whole values. Also will show value error when string conversion takes place.\n",
        "    except:\n",
        "        return np.nan"
      ],
      "metadata": {
        "id": "FOVwNQvD0D94"
      },
      "execution_count": null,
      "outputs": []
    },
    {
      "cell_type": "code",
      "source": [
        "# Display basic information about the dataset\n",
        "print(train.info())\n",
        "\n",
        "# Check for missing values\n",
        "print(train.isnull().sum())\n",
        "\n",
        "# Display the first few rows\n",
        "print(train.head())\n"
      ],
      "metadata": {
        "colab": {
          "base_uri": "https://localhost:8080/"
        },
        "id": "QZyfHtjSLr7i",
        "outputId": "966ec1f0-a9e7-4a5a-acd2-0c97916cea65"
      },
      "execution_count": null,
      "outputs": [
        {
          "output_type": "stream",
          "name": "stdout",
          "text": [
            "<class 'pandas.core.frame.DataFrame'>\n",
            "RangeIndex: 3750 entries, 0 to 3749\n",
            "Data columns (total 13 columns):\n",
            " #   Column             Non-Null Count  Dtype  \n",
            "---  ------             --------------  -----  \n",
            " 0   Unnamed: 0         3750 non-null   int64  \n",
            " 1   Name               3750 non-null   object \n",
            " 2   Location           3750 non-null   object \n",
            " 3   Year               3750 non-null   int64  \n",
            " 4   Kilometers_Driven  3750 non-null   int64  \n",
            " 5   Fuel_Type          3750 non-null   object \n",
            " 6   Transmission       3750 non-null   object \n",
            " 7   Owner_Type         3750 non-null   object \n",
            " 8   Mileage            3749 non-null   object \n",
            " 9   Engine             3722 non-null   object \n",
            " 10  Power              3722 non-null   object \n",
            " 11  Seats              3718 non-null   float64\n",
            " 12  Price              3750 non-null   float64\n",
            "dtypes: float64(2), int64(3), object(8)\n",
            "memory usage: 381.0+ KB\n",
            "None\n",
            "Unnamed: 0            0\n",
            "Name                  0\n",
            "Location              0\n",
            "Year                  0\n",
            "Kilometers_Driven     0\n",
            "Fuel_Type             0\n",
            "Transmission          0\n",
            "Owner_Type            0\n",
            "Mileage               1\n",
            "Engine               28\n",
            "Power                28\n",
            "Seats                32\n",
            "Price                 0\n",
            "dtype: int64\n",
            "   Unnamed: 0                                        Name   Location  Year  \\\n",
            "0           0         Tata Tiago 1.2 Revotron XZ WO Alloy  Hyderabad  2017   \n",
            "1           1  Mahindra TUV 300 2015-2019 mHAWK100 T8 AMT      Kochi  2017   \n",
            "2           2      Skoda Rapid 2013-2016 1.6 MPI Ambition     Mumbai  2014   \n",
            "3           3                     Tata Indica V2 DLS BSII     Jaipur  2007   \n",
            "4           4        Tata Manza Club Class Quadrajet90 LX     Mumbai  2013   \n",
            "\n",
            "   Kilometers_Driven Fuel_Type Transmission Owner_Type     Mileage   Engine  \\\n",
            "0              16500    Petrol       Manual      First  23.84 kmpl  1199 CC   \n",
            "1              47357    Diesel    Automatic      First  18.49 kmpl  1493 CC   \n",
            "2              35000    Petrol       Manual      First   15.0 kmpl  1598 CC   \n",
            "3             200000    Diesel       Manual     Second   17.2 kmpl  1396 CC   \n",
            "4              64000    Diesel       Manual     Second  21.02 kmpl  1248 CC   \n",
            "\n",
            "        Power  Seats  Price  \n",
            "0      84 bhp    5.0   5.00  \n",
            "1     100 bhp    7.0   8.37  \n",
            "2  103.52 bhp    5.0   4.50  \n",
            "3    53.5 bhp    5.0   0.85  \n",
            "4   88.76 bhp    5.0   2.65  \n"
          ]
        }
      ]
    },
    {
      "cell_type": "code",
      "source": [
        "for c in ['Mileage', 'Engine', 'Power']:\n",
        "    train[c] = train[c].apply(extract)\n",
        "    test[c] = test[c].apply(extract)\n",
        "train = train.dropna()"
      ],
      "metadata": {
        "id": "Opop7yGaWucI"
      },
      "execution_count": null,
      "outputs": []
    },
    {
      "cell_type": "code",
      "source": [
        "xf = ['Year', 'Kilometers_Driven', 'Mileage', 'Engine', 'Power', 'Seats']\n",
        "X_train = train[xf].values\n",
        "y_train = train['Price'].values\n",
        "X_test = test[xf].values\n",
        "y_test_actual = test['Price'].values"
      ],
      "metadata": {
        "id": "cKYmjNZUaVXJ"
      },
      "execution_count": null,
      "outputs": []
    },
    {
      "cell_type": "code",
      "source": [
        "def mean_normalization(data):\n",
        "    mean = np.mean(data, axis=0)\n",
        "    std = np.std(data, axis=0)\n",
        "    normalized_data = (data - mean) / std\n",
        "    return normalized_data"
      ],
      "metadata": {
        "id": "4tKMwiPiau5q"
      },
      "execution_count": null,
      "outputs": []
    },
    {
      "cell_type": "code",
      "source": [
        "def cost_function(X, y, weights, bias):\n",
        "    m = len(y)  # Total number of training examples\n",
        "    predictions = X.dot(weights) + bias\n",
        "    cost = (1 / (2 * m)) * np.sum((predictions - y) ** 2)  # Compute cost\n",
        "    return cost"
      ],
      "metadata": {
        "id": "aMsahWvgxDgn"
      },
      "execution_count": null,
      "outputs": []
    },
    {
      "cell_type": "code",
      "source": [
        "def gradient_descent(X, y, weights, bias, learning_rate, epoch):\n",
        "    m = len(y)  # Number of training examples\n",
        "    cost_history = np.zeros(epoch)\n",
        "    if m == 0:\n",
        "        raise ValueError(\"Training dataset is empty. Please check your data loading process.\")\n",
        "\n",
        "    for i in range(epoch):\n",
        "        predictions = X.dot(weights) + bias\n",
        "        errors = predictions - y\n",
        "\n",
        "        # Calculate gradients for weights and bias\n",
        "        weight_gradient = (1 / m) * X.T.dot(errors)\n",
        "        bias_gradient = (1 / m) * np.sum(errors)\n",
        "\n",
        "        # Update weights and bias\n",
        "        weights -= learning_rate * weight_gradient\n",
        "        bias -= learning_rate * bias_gradient\n",
        "\n",
        "        # Calculate cost with separate weights and bias\n",
        "        cost = cost_function(X, y, weights, bias)\n",
        "        cost_history[i] = cost\n",
        "\n",
        "        # Output metrics every 100 epoch\n",
        "        if i % 100 == 0:\n",
        "            mse, rmse, r2 = calculate_metrics(y, predictions)\n",
        "            print(f\"Iteration {i}: MSE: {mse:.2f}, RMSE: {rmse:.2f}, R²: {r2:.4f}, Cost: {cost}\")\n",
        "\n",
        "    return weights, bias, cost_history"
      ],
      "metadata": {
        "id": "wclbThSaxaaY"
      },
      "execution_count": null,
      "outputs": []
    },
    {
      "cell_type": "code",
      "source": [
        "def linear_regression(X, y, learning_rate, epoch):\n",
        "    n = X.shape[1]  # Number of features\n",
        "    weights = np.zeros(n)  # Initialize weights\n",
        "    bias = 0.0  # Initialize bias\n",
        "\n",
        "    weights, bias, cost_history = gradient_descent(X, y, weights, bias, learning_rate, epoch)\n",
        "    return weights, bias, cost_history\n"
      ],
      "metadata": {
        "id": "AUeidW0j0_mQ"
      },
      "execution_count": null,
      "outputs": []
    },
    {
      "cell_type": "code",
      "source": [
        "# Function to predict the dataset values\n",
        "def predict(X, weights, bias):\n",
        "    return np.dot(X, weights) + bias\n",
        "\n",
        "# Function to compute Mean Squared Error (MSE)\n",
        "def mean_squared_error(y_true, y_pred):\n",
        "    return np.mean((y_true - y_pred) ** 2)\n",
        "\n",
        "# Function to compute R-squared (R²)\n",
        "def r_squared(y_true, y_pred):\n",
        "    total_variance = np.sum((y_true - np.mean(y_true)) ** 2)\n",
        "    residual_variance = np.sum((y_true - y_pred) ** 2)\n",
        "    return 1 - (residual_variance / total_variance)"
      ],
      "metadata": {
        "id": "CTCpvc6M3nvU"
      },
      "execution_count": null,
      "outputs": []
    },
    {
      "cell_type": "code",
      "source": [
        "X_train_scaled = mean_normalization(X_train)\n",
        "X_test_scaled = mean_normalization(X_test)\n",
        "\n",
        "# Define hyperparameters\n",
        "learning_rate = 0.05\n",
        "iterations = 1000\n",
        "\n",
        "# Train the model\n",
        "weights, bias, cost_history = linear_regression(X_train_scaled, y_train, learning_rate, iterations)\n",
        "\n",
        "print(\"\\nFinal cost:\", cost_history[-1])\n",
        "print(\"Final weights:\", weights)\n",
        "print(\"Final bias:\", bias)\n",
        "\n",
        "# Predictions on the test set\n",
        "y_pred = predict(X_test_scaled, weights, bias)\n",
        "\n",
        "# Evaluate the model using manual metrics\n",
        "mse = mean_squared_error(y_test_actual, y_pred)\n",
        "r2 = r_squared(y_test_actual, y_pred)\n",
        "\n",
        "print(f\"Mean Squared Error on test set: {mse}\")\n",
        "print(f\"R-squared score on test set: {r2}\")"
      ],
      "metadata": {
        "colab": {
          "base_uri": "https://localhost:8080/"
        },
        "id": "TwjBa5Xs4IKo",
        "outputId": "f7cd8e46-40e3-491f-eaf1-227ed57c153c"
      },
      "execution_count": null,
      "outputs": [
        {
          "output_type": "stream",
          "name": "stdout",
          "text": [
            "Iteration 0: MSE: 219.99, RMSE: 14.83, R²: -0.7306, Cost: 98.0271696901678\n",
            "Iteration 100: MSE: 41.95, RMSE: 6.48, R²: 0.6700, Cost: 20.971617236025814\n",
            "Iteration 200: MSE: 41.79, RMSE: 6.46, R²: 0.6712, Cost: 20.89557605735585\n",
            "Iteration 300: MSE: 41.73, RMSE: 6.46, R²: 0.6717, Cost: 20.863647033181866\n",
            "Iteration 400: MSE: 41.70, RMSE: 6.46, R²: 0.6720, Cost: 20.84892941618522\n",
            "Iteration 500: MSE: 41.68, RMSE: 6.46, R²: 0.6721, Cost: 20.842142580300468\n",
            "Iteration 600: MSE: 41.68, RMSE: 6.46, R²: 0.6721, Cost: 20.83901288400414\n",
            "Iteration 700: MSE: 41.68, RMSE: 6.46, R²: 0.6722, Cost: 20.837569647983166\n",
            "Iteration 800: MSE: 41.67, RMSE: 6.46, R²: 0.6722, Cost: 20.836904110462168\n",
            "Iteration 900: MSE: 41.67, RMSE: 6.46, R²: 0.6722, Cost: 20.836597202799883\n",
            "\n",
            "Final cost: 20.83645661576081\n",
            "Final weights: [ 3.28475143 -0.58979259 -0.20870634  1.94084142  6.80977058 -0.7638017 ]\n",
            "Final bias: 9.636916963551606\n",
            "Mean Squared Error on test set: nan\n",
            "R-squared score on test set: nan\n"
          ]
        }
      ]
    },
    {
      "cell_type": "code",
      "source": [
        "plt.figure(figsize=(8, 6))\n",
        "plt.plot(range(iterations), cost_history, '-o', linewidth=1, markersize=2)\n",
        "plt.xlabel('Number of Iterations')\n",
        "plt.ylabel('Cost (Mean Squared Error)')\n",
        "plt.title('Cost vs. Iterations during Gradient Descent')\n",
        "plt.grid(True)\n",
        "plt.show()"
      ],
      "metadata": {
        "colab": {
          "base_uri": "https://localhost:8080/",
          "height": 564
        },
        "id": "7tur4Tud8-7n",
        "outputId": "024c9e33-f430-43c7-a09b-09cd4ce67053"
      },
      "execution_count": null,
      "outputs": [
        {
          "output_type": "display_data",
          "data": {
            "text/plain": [
              "<Figure size 800x600 with 1 Axes>"
            ],
            "image/png": "[encoded data removed]"
          },
          "metadata": {}
        }
      ]
    }
  ]
}